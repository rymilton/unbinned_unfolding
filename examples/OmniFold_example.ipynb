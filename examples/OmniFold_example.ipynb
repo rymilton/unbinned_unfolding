{
 "cells": [
  {
   "cell_type": "markdown",
   "id": "052e9ac3-b1e2-4293-9e85-7adc78fb9ca6",
   "metadata": {},
   "source": [
    "### This notebook demonstrates how to use unfolding with the RooUnfoldOmnifold class\n",
    "#### There are two main purposes for this class -- binned unfolding and unbinned unfolding\n",
    "#### Binned unfolding takes the same input as the other RooUnfold classes and returns an unfolded histogram\n",
    "#### Unbinned unfoldings instead uses lists of data. To make this work with ROOT, we use RDataFrames\n",
    "#### In this notebook, we'll first generate the data, then do binned unfolding, and finally do unbinned unfolding"
   ]
  },
  {
   "cell_type": "code",
   "execution_count": 1,
   "id": "32319bba-b01d-411d-bb55-ccc7f4a37b64",
   "metadata": {},
   "outputs": [],
   "source": [
    "import ROOT\n",
    "import numpy as np\n",
    "import matplotlib.pyplot as plt"
   ]
  },
  {
   "cell_type": "markdown",
   "id": "04568400-4ff4-4175-bab3-888f2bff58af",
   "metadata": {},
   "source": [
    "### We'll now generate the data. This follows the generation from [the RooUnfold tutorial](https://statisticalmethods.web.cern.ch/StatisticalMethods/unfolding/RooUnfold_01-Methods/)."
   ]
  },
  {
   "cell_type": "code",
   "execution_count": 2,
   "id": "fb1eac12-8b3b-412d-b4c0-6dae8ed599e8",
   "metadata": {},
   "outputs": [],
   "source": [
    "def smear(xt):\n",
    "  xeff = 0.3 + (1.0-0.3)/20*(xt+10.0)  #  efficiency                                                                                  \n",
    "  x = ROOT.gRandom.Rndm()\n",
    "  if x>xeff: return None\n",
    "  xsmear = ROOT.gRandom.Gaus(-2.5,0.2)     #  bias and smear \n",
    "  return xt + xsmear"
   ]
  },
  {
   "cell_type": "code",
   "execution_count": 3,
   "id": "60a2667d-4a9a-4c05-9431-edca019dd6a9",
   "metadata": {},
   "outputs": [],
   "source": [
    "# Number of data points we'll generate\n",
    "num_MC_data = 100000\n",
    "num_truth_data = 10000\n",
    "\n",
    "# Defining the binning we'll use\n",
    "MCreco_bins, MCreco_low, MCreco_high  = 40, -10, 10\n",
    "MCgen_bins, MCgen_low, MCgen_high = 40, -10, 10\n",
    "truth_bins, truth_low, truth_high = 40, -10, 10\n",
    "measured_bins, measured_low, measured_high = 40, -10, 10\n",
    "\n",
    "# Setting up our histograms and response matrix\n",
    "MCgen_hist    = ROOT.TH1D(\"MCgen_hist\", \"MCgen_hist\", MCgen_bins, MCgen_low, MCgen_high)\n",
    "MCreco_hist   = ROOT.TH1D(\"MCreco_hist\", \"MCreco_hist\", MCreco_bins, MCreco_low, MCreco_high)\n",
    "response      = ROOT.RooUnfoldResponse(MCreco_bins, MCreco_low, MCreco_high, MCgen_bins, MCgen_low, MCgen_high)\n",
    "truth_hist    = ROOT.TH1D (\"truth_hist\", \"truth_hist\", truth_bins, truth_low, truth_high)\n",
    "measured_hist = ROOT.TH1D (\"measured_hist\", \"measured_hist\", measured_bins, measured_low, measured_high)\n",
    "\n",
    "# These lists will contain the unbinned data, i.e. the data without being put into a histogram\n",
    "unbinned_MCgen = []\n",
    "unbinned_MCreco = []\n",
    "unbinned_truth = []\n",
    "unbinned_measured = []\n",
    "MC_pass_reco = []\n",
    "MC_pass_gen = []\n",
    "measured_pass_reco = []"
   ]
  },
  {
   "cell_type": "markdown",
   "id": "612e134f-e9fe-4514-a33b-316dc0667d87",
   "metadata": {},
   "source": [
    "### Creating unbinned data"
   ]
  },
  {
   "cell_type": "code",
   "execution_count": 4,
   "id": "c30cdec8-274b-4ac4-9dc1-707743671948",
   "metadata": {},
   "outputs": [],
   "source": [
    "# Generating pseudodata\n",
    "# For readability, we'll populate the unbinned entries and bin them afterwards\n",
    "\n",
    "# Generating MC data\n",
    "for i in range(num_MC_data):\n",
    "    xt = ROOT.gRandom.BreitWigner(0.3, 2.5)\n",
    "    unbinned_MCgen.append(xt)\n",
    "        \n",
    "    # To demonstrate cuts on the true MC data, we'll make a cut on whether the data falls within the histogram bin range\n",
    "    if xt < MCgen_low or xt > MCgen_high:\n",
    "        MC_pass_gen.append(False)\n",
    "    else:\n",
    "        MC_pass_gen.append(True)\n",
    "\n",
    "    # Smearing the MC data to imitate reconstruction\n",
    "    x = smear(xt)\n",
    "    if x != None:\n",
    "        unbinned_MCreco.append(x)\n",
    "        MC_pass_reco.append(True)\n",
    "    else:\n",
    "        # Note that the unbinned data should have the same length for the MC truth and MC reco (sim) data\n",
    "        # So for events that don't pass reconstruction, a placeholder value should be used\n",
    "        unbinned_MCreco.append(-9999)\n",
    "        MC_pass_reco.append(False)\n",
    "\n",
    "# Generating truth/measured data\n",
    "for i in range(num_truth_data):\n",
    "    xt = ROOT.gRandom.Gaus (0.0, 2.0)\n",
    "    unbinned_truth.append(xt)\n",
    "    \n",
    "    x = smear(xt)\n",
    "    if x != None:\n",
    "        unbinned_measured.append(x)\n",
    "        measured_pass_reco.append(True)\n",
    "    else:\n",
    "        unbinned_measured.append(-9999)\n",
    "        measured_pass_reco.append(False)\n",
    "        \n",
    "# We'll now convert these to numpy arrays, which will act as input to the unbinned unfolding functions\n",
    "unbinned_MCgen = np.array(unbinned_MCgen, dtype = np.float32)\n",
    "unbinned_MCreco = np.array(unbinned_MCreco, dtype = np.float32)\n",
    "unbinned_truth = np.array(unbinned_truth, dtype = np.float32)\n",
    "unbinned_measured = np.array(unbinned_measured, dtype = np.float32)\n",
    "MC_pass_reco = np.array(MC_pass_reco, dtype=bool)\n",
    "MC_pass_gen = np.array(MC_pass_gen, dtype=bool)\n",
    "measured_pass_reco = np.array(measured_pass_reco, dtype=bool)"
   ]
  },
  {
   "cell_type": "markdown",
   "id": "86eca120-eed2-448c-8299-59a59f3a1d6a",
   "metadata": {},
   "source": [
    "### Binning the unbinned data"
   ]
  },
  {
   "cell_type": "code",
   "execution_count": 5,
   "id": "d653ccb8-d127-45cd-9b1c-fd53816ae0d6",
   "metadata": {},
   "outputs": [],
   "source": [
    "for (MCgen, MCreco, pass_reco) in zip(unbinned_MCgen, unbinned_MCreco, MC_pass_reco):\n",
    "    MCgen_hist.Fill(MCgen)\n",
    "    if pass_reco:\n",
    "        response.Fill(MCreco, MCgen)\n",
    "        MCreco_hist.Fill(MCreco)\n",
    "    else:\n",
    "        response.Miss(MCgen)\n",
    "for (truth, measured, pass_reco) in zip(unbinned_truth, unbinned_measured, measured_pass_reco):\n",
    "    truth_hist.Fill(truth)\n",
    "    if pass_reco:\n",
    "        measured_hist.Fill(measured)"
   ]
  },
  {
   "cell_type": "markdown",
   "id": "7f15cf12-b6c0-4daf-8f49-29b218e2544d",
   "metadata": {},
   "source": [
    "### Visualize our distributions and response matrix"
   ]
  },
  {
   "cell_type": "code",
   "execution_count": 6,
   "id": "a64f4edc-864f-4720-9397-4ec8bc5921c7",
   "metadata": {},
   "outputs": [
    {
     "data": {
      "image/png": "[encoded data removed]",
      "text/plain": [
       "<IPython.core.display.Image object>"
      ]
     },
     "metadata": {},
     "output_type": "display_data"
    }
   ],
   "source": [
    "c = ROOT.TCanvas()\n",
    "MCgen_hist.SetStats(0)\n",
    "MCgen_hist.SetTitle(\"\")\n",
    "MCgen_hist.SetFillColor(7)\n",
    "MCgen_hist.Draw()\n",
    "MCreco_hist.SetFillColor(42)\n",
    "MCreco_hist.Draw(\"same\")\n",
    "leg = ROOT.TLegend(.55,0.7,.9,.9)\n",
    "leg.AddEntry(MCgen_hist,\"MC gen\")\n",
    "leg.AddEntry(MCreco_hist,\"MC reco\")\n",
    "leg.Draw()\n",
    "c.Draw()"
   ]
  },
  {
   "cell_type": "code",
   "execution_count": 7,
   "id": "90d5b8a3-1550-46ca-9dd9-93838e7db10a",
   "metadata": {},
   "outputs": [
    {
     "data": {
      "image/png": "[encoded data removed]",
      "text/plain": [
       "<IPython.core.display.Image object>"
      ]
     },
     "metadata": {},
     "output_type": "display_data"
    }
   ],
   "source": [
    "R = response.HresponseNoOverflow()\n",
    "c1 = ROOT.TCanvas()\n",
    "R.SetStats(0)\n",
    "R.Draw(\"colz\")\n",
    "c1.Draw()"
   ]
  },
  {
   "cell_type": "markdown",
   "id": "294cbc7c-063e-4553-9b8d-96cf869efad9",
   "metadata": {},
   "source": [
    "### Doing binned unfolding\n",
    "#### Just like the other RooUnfold functions, this uses the response matrix and measured histogram\n",
    "#### The bins of the returned histogram will be the same as the MC gen binning"
   ]
  },
  {
   "cell_type": "code",
   "execution_count": 8,
   "id": "12ae81d4-7d3a-423d-bb74-8574334e2ee6",
   "metadata": {},
   "outputs": [
    {
     "name": "stdout",
     "output_type": "stream",
     "text": [
      "Starting iteration 0\n",
      "Starting iteration 1\n",
      "Starting iteration 2\n",
      "Starting iteration 3\n"
     ]
    }
   ],
   "source": [
    "num_iterations = 4\n",
    "binned_unfolding = ROOT.RooUnfoldOmnifold(response, measured_hist, num_iterations)\n",
    "binned_unfolding_hist = binned_unfolding.Hunfold()"
   ]
  },
  {
   "cell_type": "code",
   "execution_count": 9,
   "id": "48f26674-d41f-4812-a18d-e2733ff267cb",
   "metadata": {},
   "outputs": [
    {
     "data": {
      "image/png": "[encoded data removed]",
      "text/plain": [
       "<IPython.core.display.Image object>"
      ]
     },
     "metadata": {},
     "output_type": "display_data"
    }
   ],
   "source": [
    "c_binned_unfolding = ROOT.TCanvas()\n",
    "binned_unfolding_hist.SetStats(0)\n",
    "binned_unfolding_hist.SetTitle(\"\")\n",
    "binned_unfolding_hist.SetLineColor(3)\n",
    "truth_hist.SetLineColor(2)\n",
    "\n",
    "binned_unfolding_hist.Draw()\n",
    "truth_hist.Draw(\"same hist\")\n",
    "measured_hist.Draw(\"same hist\")\n",
    "\n",
    "#Normalizing the histograms\n",
    "truth_hist.Scale(1/truth_hist.Integral())\n",
    "measured_hist.Scale(1/measured_hist.Integral())\n",
    "binned_unfolding_hist.Scale(1/binned_unfolding_hist.Integral())\n",
    "leg_binned_unfolding = ROOT.TLegend(0.6, 0.6, 0.9, 0.9)\n",
    "leg_binned_unfolding.AddEntry(truth_hist, \"True distribution\",\"pl\")\n",
    "leg_binned_unfolding.AddEntry(measured_hist, \"Measured distribution\", \"pl\")\n",
    "leg_binned_unfolding.AddEntry(binned_unfolding_hist, \"Unfolded distribution\")\n",
    "leg_binned_unfolding.Draw()\n",
    "c_binned_unfolding.Draw()"
   ]
  },
  {
   "cell_type": "markdown",
   "id": "2c704ec9-5718-45ba-9845-890472b47dc2",
   "metadata": {},
   "source": [
    "### Doing unbinned unfolding\n",
    "#### The first step is to get our numpy arrays into ROOT objects\n",
    "#### The data entries should be converted to RDataFrames, while the boolean arrays should be converted to TVectors"
   ]
  },
  {
   "cell_type": "code",
   "execution_count": 10,
   "id": "3244f266-d4f1-496a-8a97-b5b1d061f50a",
   "metadata": {},
   "outputs": [],
   "source": [
    "df_MCgen = ROOT.RDF.FromNumpy({'unbinned_MCgen': unbinned_MCgen})\n",
    "df_MCreco = ROOT.RDF.FromNumpy({'unbinned_MCreco': unbinned_MCreco})\n",
    "df_measured = ROOT.RDF.FromNumpy({'unbinned_measured': unbinned_measured})"
   ]
  },
  {
   "cell_type": "code",
   "execution_count": 11,
   "id": "b80044a3-c61a-49a5-9016-a28bbf3eed18",
   "metadata": {},
   "outputs": [],
   "source": [
    "def np_to_TVector(array):\n",
    "    vector = ROOT.TVector(len(array))\n",
    "    for i, entry in enumerate(array):\n",
    "        vector[i] = entry\n",
    "    return vector"
   ]
  },
  {
   "cell_type": "code",
   "execution_count": 12,
   "id": "ee108111-6260-485d-9f11-ff6877418fd6",
   "metadata": {},
   "outputs": [],
   "source": [
    "MC_pass_reco_vector = np_to_TVector(MC_pass_reco)\n",
    "MC_pass_gen_vector = np_to_TVector(MC_pass_gen)\n",
    "measured_pass_reco_vector = np_to_TVector(measured_pass_reco)"
   ]
  },
  {
   "cell_type": "code",
   "execution_count": 13,
   "id": "b0fdfc5f-22e7-4b3b-857a-a2bb4e49e56e",
   "metadata": {},
   "outputs": [],
   "source": [
    "unbinned_unfolding = ROOT.RooUnfoldOmnifold()\n",
    "unbinned_unfolding.SetMCDataFrame(df_MCgen)\n",
    "unbinned_unfolding.SetSimDataFrame(df_MCreco)\n",
    "unbinned_unfolding.SetMeasuredDataFrame(df_measured)\n",
    "unbinned_unfolding.SetMCPassReco(MC_pass_reco_vector)\n",
    "unbinned_unfolding.SetMCPassTruth(MC_pass_gen_vector)\n",
    "unbinned_unfolding.SetMeasuredPassReco(measured_pass_reco_vector)\n",
    "unbinned_unfolding.SetNumIterations(4)"
   ]
  },
  {
   "cell_type": "code",
   "execution_count": 14,
   "id": "39918c01-5544-495b-ab8f-8dcec4651223",
   "metadata": {},
   "outputs": [
    {
     "name": "stdout",
     "output_type": "stream",
     "text": [
      "Starting iteration 0\n",
      "Starting iteration 1\n",
      "Starting iteration 2\n",
      "Starting iteration 3\n"
     ]
    }
   ],
   "source": [
    "unbinned_results = unbinned_unfolding.UnbinnedOmnifold()\n",
    "step1_weights_TVector = ROOT.std.get[0](unbinned_results)\n",
    "step2_weights_TVector = ROOT.std.get[1](unbinned_results)"
   ]
  },
  {
   "cell_type": "code",
   "execution_count": 15,
   "id": "c5e1db38-6bc6-4036-89a3-c2f579e915b8",
   "metadata": {},
   "outputs": [
    {
     "data": {
      "image/png": "[encoded data removed]",
      "text/plain": [
       "<IPython.core.display.Image object>"
      ]
     },
     "metadata": {},
     "output_type": "display_data"
    }
   ],
   "source": [
    "# Filling a histogram for plotting\n",
    "unbinned_unfolding_hist = ROOT.TH1D(\"unbinned_unfolding_hist\", \"unbinned_unfolding_hist\", MCgen_bins, MCgen_low, MCgen_high)\n",
    "for i in range(step2_weights_TVector.GetNoElements()):\n",
    "    unbinned_unfolding_hist.Fill(unbinned_MCgen[MC_pass_gen][i], step2_weights_TVector[i])\n",
    "unbinned_unfolding_hist.Scale(1/unbinned_unfolding_hist.Integral())\n",
    "\n",
    "c_unbinned_unfolding = ROOT.TCanvas()\n",
    "unbinned_unfolding_hist.SetStats(0)\n",
    "unbinned_unfolding_hist.SetTitle(\"\")\n",
    "unbinned_unfolding_hist.SetLineColor(3)\n",
    "truth_hist.SetLineColor(2)\n",
    "\n",
    "unbinned_unfolding_hist.Draw()\n",
    "truth_hist.Draw(\"same hist\")\n",
    "measured_hist.Draw(\"same hist\")\n",
    "\n",
    "leg_unbinned_unfolding = ROOT.TLegend(0.6, 0.6, 0.9, 0.9)\n",
    "leg_unbinned_unfolding.AddEntry(truth_hist, \"True distribution\",\"pl\")\n",
    "leg_unbinned_unfolding.AddEntry(measured_hist, \"Measured distribution\", \"pl\")\n",
    "leg_unbinned_unfolding.AddEntry(unbinned_unfolding_hist, \"Unfolded distribution\")\n",
    "leg_unbinned_unfolding.Draw()\n",
    "c_unbinned_unfolding.Draw()"
   ]
  },
  {
   "cell_type": "markdown",
   "id": "33a05ed5-41c2-472f-8b8e-4a25336dcf79",
   "metadata": {},
   "source": [
    "#### With this class, there's boosted decision trees under the hood\n",
    "#### We can control the parameters of these decision trees using TMaps\n",
    "#### The available parameters are found in the scikit-learn pages for [GradientBoostingClassifier](https://scikit-learn.org/dev/modules/generated/sklearn.ensemble.GradientBoostingClassifier.html) and [GradientBoostingRegressor](https://scikit-learn.org/dev/modules/generated/sklearn.ensemble.GradientBoostingRegressor.html).\n",
    "#### We'll adjust the n_estimators parameter"
   ]
  },
  {
   "cell_type": "code",
   "execution_count": 16,
   "id": "1a982314-19a2-4670-9df6-15a525202f64",
   "metadata": {},
   "outputs": [
    {
     "name": "stdout",
     "output_type": "stream",
     "text": [
      "Starting iteration 0\n",
      "Starting iteration 1\n",
      "Starting iteration 2\n",
      "Starting iteration 3\n"
     ]
    }
   ],
   "source": [
    "# There are 3 boosted decision trees used in this class\n",
    "# A tree (GradientBoostingClassifier) for step 1 classification, a tree (GradientBoostingClassifier) for step 2 classification\n",
    "# And a final tree (GradientBoostingRegressor) for handling events that don't pass reconstruction\n",
    "step1classifier_params = ROOT.TMap()\n",
    "step1classifier_params.Add(ROOT.TObjString(\"n_estimators\"), ROOT.TObjString(\"50\"))\n",
    "step2classifier_params = ROOT.TMap()\n",
    "step2classifier_params.Add(ROOT.TObjString(\"n_estimators\"), ROOT.TObjString(\"50\"))\n",
    "step1regressor_params = ROOT.TMap()\n",
    "step1regressor_params.Add(ROOT.TObjString(\"n_estimators\"), ROOT.TObjString(\"50\"))\n",
    "\n",
    "# Setting the parameters\n",
    "unbinned_unfolding.SetStep1ClassifierParameters(step1classifier_params)\n",
    "unbinned_unfolding.SetStep2ClassifierParameters(step2classifier_params)\n",
    "unbinned_unfolding.SetStep1RegressorParameters(step1regressor_params)\n",
    "\n",
    "# Unfolding can now be run again with these parameters\n",
    "unbinned_results_nestimators = unbinned_unfolding.UnbinnedOmnifold()\n",
    "step1_weights_nestimators_TVector = ROOT.std.get[0](unbinned_results_nestimators)\n",
    "step2_weights_nestimators_TVector = ROOT.std.get[1](unbinned_results_nestimators)"
   ]
  },
  {
   "cell_type": "code",
   "execution_count": 17,
   "id": "11092451-6429-43f6-8464-22e04384d533",
   "metadata": {},
   "outputs": [
    {
     "data": {
      "image/png": "[encoded data removed]",
      "text/plain": [
       "<IPython.core.display.Image object>"
      ]
     },
     "metadata": {},
     "output_type": "display_data"
    }
   ],
   "source": [
    "# Filling a histogram for plotting\n",
    "unbinned_unfolding_hist_nestimators = ROOT.TH1D(\"unbinned_unfolding_hist_nestimators\", \"unbinned_unfolding_hist_nestimators\", MCgen_bins, MCgen_low, MCgen_high)\n",
    "for i in range(step2_weights_nestimators_TVector.GetNoElements()):\n",
    "    unbinned_unfolding_hist_nestimators.Fill(unbinned_MCgen[MC_pass_gen][i], step2_weights_nestimators_TVector[i])\n",
    "unbinned_unfolding_hist_nestimators.Scale(1/unbinned_unfolding_hist_nestimators.Integral())\n",
    "\n",
    "c_unbinned_unfolding_nestimators = ROOT.TCanvas()\n",
    "unbinned_unfolding_hist_nestimators.SetStats(0)\n",
    "unbinned_unfolding_hist_nestimators.SetTitle(\"\")\n",
    "unbinned_unfolding_hist_nestimators.SetLineColor(3)\n",
    "truth_hist.SetLineColor(2)\n",
    "\n",
    "unbinned_unfolding_hist_nestimators.Draw()\n",
    "truth_hist.Draw(\"same hist\")\n",
    "measured_hist.Draw(\"same hist\")\n",
    "\n",
    "leg_unbinned_unfolding_nestimators = ROOT.TLegend(0.6, 0.6, 0.9, 0.9)\n",
    "leg_unbinned_unfolding_nestimators.AddEntry(truth_hist, \"True distribution\",\"pl\")\n",
    "leg_unbinned_unfolding_nestimators.AddEntry(measured_hist, \"Measured distribution\", \"pl\")\n",
    "leg_unbinned_unfolding_nestimators.AddEntry(unbinned_unfolding_hist_nestimators, \"Unfolded distribution\")\n",
    "leg_unbinned_unfolding_nestimators.Draw()\n",
    "c_unbinned_unfolding_nestimators.Draw()"
   ]
  },
  {
   "cell_type": "markdown",
   "id": "fe9e0bc9-8ff4-49bd-a07b-022ec24d3c49",
   "metadata": {},
   "source": [
    "#### The trained boosted decision trees for unbinned unfolding are saved by default\n",
    "#### After training, these trained models can be loaded and then be used to make predictions on a new dataset"
   ]
  },
  {
   "cell_type": "code",
   "execution_count": 18,
   "id": "685ffe27-48dd-4623-b0ac-8910338c4bcc",
   "metadata": {},
   "outputs": [],
   "source": [
    "unbinned_unfolding.SetModelSaving(True) # Can be set to False to not save the models\n",
    "unbinned_unfolding.SetSaveDirectory(\"./\") # \"./\" is the default\n",
    "unbinned_unfolding.SetModelName(\"unbinned_unfolding_example\") # The models will be saved in \"./unbinned_unfolding_example_models.pkl\""
   ]
  },
  {
   "cell_type": "markdown",
   "id": "0f52a304-d03b-411c-ac29-ab4e5ed074a3",
   "metadata": {},
   "source": [
    "#### To demonstrate loading the model and making new predictions, we'll split our MC dataset in half -- one half for training and the other half for predictions"
   ]
  },
  {
   "cell_type": "code",
   "execution_count": 19,
   "id": "9ea8d41e-0b96-4577-9730-7dcb9dcb0a03",
   "metadata": {},
   "outputs": [],
   "source": [
    "num_split_data = int(num_MC_data/2)\n",
    "unbinned_MCgen_train = unbinned_MCgen[:num_split_data]\n",
    "unbinned_MCreco_train = unbinned_MCreco[:num_split_data]\n",
    "MC_pass_reco_train = MC_pass_reco[:num_split_data]\n",
    "MC_pass_gen_train = MC_pass_gen[:num_split_data]\n",
    "\n",
    "df_MCgen_train = ROOT.RDF.FromNumpy({'unbinned_MCgen_train': unbinned_MCgen_train})\n",
    "df_MCreco_train = ROOT.RDF.FromNumpy({'unbinned_MCreco_train': unbinned_MCreco_train})\n",
    "MC_pass_reco_train_vector = np_to_TVector(MC_pass_reco_train)\n",
    "MC_pass_gen_train_vector = np_to_TVector(MC_pass_gen_train)\n",
    "\n",
    "unbinned_MCgen_test = unbinned_MCgen[num_split_data:]\n",
    "unbinned_MCreco_test = unbinned_MCreco[num_split_data:]\n",
    "MC_pass_reco_test = MC_pass_reco[num_split_data:]\n",
    "MC_pass_gen_test = MC_pass_gen[num_split_data:]\n",
    "\n",
    "# During training, the events that don't pass gen are removed. So during testing, we'll remove these events beforehand\n",
    "unbinned_MCgen_test = unbinned_MCgen_test[MC_pass_gen_test]\n",
    "unbinned_MCreco_test = unbinned_MCreco_test[MC_pass_gen_test]\n",
    "MC_pass_reco_test = MC_pass_reco_test[MC_pass_gen_test]\n",
    "\n",
    "df_MCgen_test = ROOT.RDF.FromNumpy({'unbinned_MCgen_test': unbinned_MCgen_test})\n",
    "df_MCreco_test = ROOT.RDF.FromNumpy({'unbinned_MCreco_test': unbinned_MCreco_test})\n",
    "MC_pass_reco_test_vector = np_to_TVector(MC_pass_reco_test)"
   ]
  },
  {
   "cell_type": "code",
   "execution_count": 20,
   "id": "8c134e28-5879-48f7-9c48-caff73b3eb10",
   "metadata": {},
   "outputs": [
    {
     "name": "stdout",
     "output_type": "stream",
     "text": [
      "Starting iteration 0\n",
      "Starting iteration 1\n",
      "Starting iteration 2\n",
      "Starting iteration 3\n",
      "Performing predictions\n"
     ]
    }
   ],
   "source": [
    "unbinned_unfolding.SetMCDataFrame(df_MCgen_train)\n",
    "unbinned_unfolding.SetSimDataFrame(df_MCreco_train)\n",
    "unbinned_unfolding.SetMeasuredDataFrame(df_measured)\n",
    "unbinned_unfolding.SetMCPassReco(MC_pass_reco_train_vector)\n",
    "unbinned_unfolding.SetMCPassTruth(MC_pass_gen_train_vector)\n",
    "unbinned_unfolding.SetMeasuredPassReco(measured_pass_reco_vector)\n",
    "unbinned_unfolding.SetNumIterations(4)\n",
    "train_weights = unbinned_unfolding.UnbinnedOmnifold()\n",
    "\n",
    "print(\"Performing predictions\")\n",
    "unbinned_unfolding.SetTestMCDataFrame(df_MCgen_test)\n",
    "unbinned_unfolding.SetTestSimDataFrame(df_MCreco_test)\n",
    "unbinned_unfolding.SetTestMCPassReco(MC_pass_reco_test_vector)\n",
    "test_unbinned_results = unbinned_unfolding.TestUnbinnedOmnifold()\n",
    "step1_test_weights_TVector = ROOT.std.get[0](test_unbinned_results)\n",
    "step2_test_weights_TVector = ROOT.std.get[1](test_unbinned_results)"
   ]
  },
  {
   "cell_type": "code",
   "execution_count": 21,
   "id": "84e93e1f-1cbd-41fc-8469-3d1dae825ee0",
   "metadata": {},
   "outputs": [
    {
     "data": {
      "image/png": "[encoded data removed]",
      "text/plain": [
       "<IPython.core.display.Image object>"
      ]
     },
     "metadata": {},
     "output_type": "display_data"
    }
   ],
   "source": [
    "# Filling a histogram for plotting\n",
    "unbinned_unfolding_hist_test = ROOT.TH1D(\"unbinned_unfolding_hist_test\", \"unbinned_unfolding_hist_test\", MCgen_bins, MCgen_low, MCgen_high)\n",
    "for i in range(step2_test_weights_TVector.GetNoElements()):\n",
    "    unbinned_unfolding_hist_test.Fill(unbinned_MCgen_test[i], step2_test_weights_TVector[i])\n",
    "\n",
    "c_unbinned_unfolding_test = ROOT.TCanvas()\n",
    "unbinned_unfolding_hist_test.SetStats(0)\n",
    "unbinned_unfolding_hist_test.SetTitle(\"\")\n",
    "unbinned_unfolding_hist_test.SetLineColor(3)\n",
    "truth_hist.SetLineColor(2)\n",
    "\n",
    "unbinned_unfolding_hist_test.Scale(1/unbinned_unfolding_hist_test.Integral())\n",
    "\n",
    "unbinned_unfolding_hist_test.Draw()\n",
    "truth_hist.Draw(\"same hist\")\n",
    "measured_hist.Draw(\"same hist\")\n",
    "\n",
    "leg_unbinned_unfolding_test = ROOT.TLegend(0.6, 0.6, 0.9, 0.9)\n",
    "leg_unbinned_unfolding_test.AddEntry(truth_hist, \"True distribution\",\"pl\")\n",
    "leg_unbinned_unfolding_test.AddEntry(measured_hist, \"Measured distribution\", \"pl\")\n",
    "leg_unbinned_unfolding_test.AddEntry(unbinned_unfolding_hist_test, \"Unfolded distribution\")\n",
    "leg_unbinned_unfolding_test.Draw()\n",
    "c_unbinned_unfolding_test.Draw()"
   ]
  },
  {
   "cell_type": "markdown",
   "id": "e3a7dcd4-0eaa-42dd-aa5a-5d7cde381a08",
   "metadata": {},
   "source": [
    "#### Although not used in this notebook, the step 1 weights can be applied to the MCreco data to match the measured distribution.\n",
    "#### These weights should be used from the first iteration of unfolding"
   ]
  }
 ],
 "metadata": {
  "kernelspec": {
   "display_name": "Python 3 (ipykernel)",
   "language": "python",
   "name": "python3"
  },
  "language_info": {
   "codemirror_mode": {
    "name": "ipython",
    "version": 3
   },
   "file_extension": ".py",
   "mimetype": "text/x-python",
   "name": "python",
   "nbconvert_exporter": "python",
   "pygments_lexer": "ipython3",
   "version": "3.12.7"
  }
 },
 "nbformat": 4,
 "nbformat_minor": 5
}
